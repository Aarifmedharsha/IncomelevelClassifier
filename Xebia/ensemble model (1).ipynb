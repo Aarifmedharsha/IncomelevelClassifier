{
 "cells": [
  {
   "cell_type": "code",
   "execution_count": 1,
   "id": "19196a82",
   "metadata": {},
   "outputs": [],
   "source": [
    "import pandas as pd\n",
    "import numpy as np\n",
    "import matplotlib.pyplot as plt"
   ]
  },
  {
   "cell_type": "code",
   "execution_count": 2,
   "id": "232030af",
   "metadata": {},
   "outputs": [
    {
     "data": {
      "text/html": [
       "<div>\n",
       "<style scoped>\n",
       "    .dataframe tbody tr th:only-of-type {\n",
       "        vertical-align: middle;\n",
       "    }\n",
       "\n",
       "    .dataframe tbody tr th {\n",
       "        vertical-align: top;\n",
       "    }\n",
       "\n",
       "    .dataframe thead th {\n",
       "        text-align: right;\n",
       "    }\n",
       "</style>\n",
       "<table border=\"1\" class=\"dataframe\">\n",
       "  <thead>\n",
       "    <tr style=\"text-align: right;\">\n",
       "      <th></th>\n",
       "      <th>age</th>\n",
       "      <th>fnlwgt</th>\n",
       "      <th>education_num</th>\n",
       "      <th>capital_gain</th>\n",
       "      <th>capital_loss</th>\n",
       "      <th>hours_per_week</th>\n",
       "      <th>income_level</th>\n",
       "    </tr>\n",
       "  </thead>\n",
       "  <tbody>\n",
       "    <tr>\n",
       "      <th>0</th>\n",
       "      <td>39</td>\n",
       "      <td>77516</td>\n",
       "      <td>13</td>\n",
       "      <td>2174</td>\n",
       "      <td>0</td>\n",
       "      <td>40</td>\n",
       "      <td>0</td>\n",
       "    </tr>\n",
       "    <tr>\n",
       "      <th>1</th>\n",
       "      <td>50</td>\n",
       "      <td>83311</td>\n",
       "      <td>13</td>\n",
       "      <td>0</td>\n",
       "      <td>0</td>\n",
       "      <td>13</td>\n",
       "      <td>0</td>\n",
       "    </tr>\n",
       "    <tr>\n",
       "      <th>2</th>\n",
       "      <td>38</td>\n",
       "      <td>215646</td>\n",
       "      <td>9</td>\n",
       "      <td>0</td>\n",
       "      <td>0</td>\n",
       "      <td>40</td>\n",
       "      <td>0</td>\n",
       "    </tr>\n",
       "    <tr>\n",
       "      <th>3</th>\n",
       "      <td>53</td>\n",
       "      <td>234721</td>\n",
       "      <td>7</td>\n",
       "      <td>0</td>\n",
       "      <td>0</td>\n",
       "      <td>40</td>\n",
       "      <td>0</td>\n",
       "    </tr>\n",
       "    <tr>\n",
       "      <th>4</th>\n",
       "      <td>28</td>\n",
       "      <td>338409</td>\n",
       "      <td>13</td>\n",
       "      <td>0</td>\n",
       "      <td>0</td>\n",
       "      <td>40</td>\n",
       "      <td>0</td>\n",
       "    </tr>\n",
       "    <tr>\n",
       "      <th>...</th>\n",
       "      <td>...</td>\n",
       "      <td>...</td>\n",
       "      <td>...</td>\n",
       "      <td>...</td>\n",
       "      <td>...</td>\n",
       "      <td>...</td>\n",
       "      <td>...</td>\n",
       "    </tr>\n",
       "    <tr>\n",
       "      <th>48837</th>\n",
       "      <td>39</td>\n",
       "      <td>215419</td>\n",
       "      <td>13</td>\n",
       "      <td>0</td>\n",
       "      <td>0</td>\n",
       "      <td>36</td>\n",
       "      <td>0</td>\n",
       "    </tr>\n",
       "    <tr>\n",
       "      <th>48838</th>\n",
       "      <td>64</td>\n",
       "      <td>321403</td>\n",
       "      <td>9</td>\n",
       "      <td>0</td>\n",
       "      <td>0</td>\n",
       "      <td>40</td>\n",
       "      <td>0</td>\n",
       "    </tr>\n",
       "    <tr>\n",
       "      <th>48839</th>\n",
       "      <td>38</td>\n",
       "      <td>374983</td>\n",
       "      <td>13</td>\n",
       "      <td>0</td>\n",
       "      <td>0</td>\n",
       "      <td>50</td>\n",
       "      <td>0</td>\n",
       "    </tr>\n",
       "    <tr>\n",
       "      <th>48840</th>\n",
       "      <td>44</td>\n",
       "      <td>83891</td>\n",
       "      <td>13</td>\n",
       "      <td>5455</td>\n",
       "      <td>0</td>\n",
       "      <td>40</td>\n",
       "      <td>0</td>\n",
       "    </tr>\n",
       "    <tr>\n",
       "      <th>48841</th>\n",
       "      <td>35</td>\n",
       "      <td>182148</td>\n",
       "      <td>13</td>\n",
       "      <td>0</td>\n",
       "      <td>0</td>\n",
       "      <td>60</td>\n",
       "      <td>1</td>\n",
       "    </tr>\n",
       "  </tbody>\n",
       "</table>\n",
       "<p>48842 rows × 7 columns</p>\n",
       "</div>"
      ],
      "text/plain": [
       "       age  fnlwgt  education_num  capital_gain  capital_loss  hours_per_week  \\\n",
       "0       39   77516             13          2174             0              40   \n",
       "1       50   83311             13             0             0              13   \n",
       "2       38  215646              9             0             0              40   \n",
       "3       53  234721              7             0             0              40   \n",
       "4       28  338409             13             0             0              40   \n",
       "...    ...     ...            ...           ...           ...             ...   \n",
       "48837   39  215419             13             0             0              36   \n",
       "48838   64  321403              9             0             0              40   \n",
       "48839   38  374983             13             0             0              50   \n",
       "48840   44   83891             13          5455             0              40   \n",
       "48841   35  182148             13             0             0              60   \n",
       "\n",
       "       income_level  \n",
       "0                 0  \n",
       "1                 0  \n",
       "2                 0  \n",
       "3                 0  \n",
       "4                 0  \n",
       "...             ...  \n",
       "48837             0  \n",
       "48838             0  \n",
       "48839             0  \n",
       "48840             0  \n",
       "48841             1  \n",
       "\n",
       "[48842 rows x 7 columns]"
      ]
     },
     "execution_count": 2,
     "metadata": {},
     "output_type": "execute_result"
    }
   ],
   "source": [
    "data=pd.read_csv('income.csv')\n",
    "data"
   ]
  },
  {
   "cell_type": "code",
   "execution_count": 3,
   "id": "77658ea8",
   "metadata": {},
   "outputs": [
    {
     "data": {
      "text/plain": [
       "Index(['age', 'fnlwgt', 'education_num', 'capital_gain', 'capital_loss',\n",
       "       'hours_per_week', 'income_level'],\n",
       "      dtype='object')"
      ]
     },
     "execution_count": 3,
     "metadata": {},
     "output_type": "execute_result"
    }
   ],
   "source": [
    "data.columns\n"
   ]
  },
  {
   "cell_type": "code",
   "execution_count": 4,
   "id": "d8b4a0ba",
   "metadata": {},
   "outputs": [
    {
     "data": {
      "text/plain": [
       "age               0\n",
       "fnlwgt            0\n",
       "education_num     0\n",
       "capital_gain      0\n",
       "capital_loss      0\n",
       "hours_per_week    0\n",
       "income_level      0\n",
       "dtype: int64"
      ]
     },
     "execution_count": 4,
     "metadata": {},
     "output_type": "execute_result"
    }
   ],
   "source": [
    "data.isnull().sum()"
   ]
  },
  {
   "cell_type": "code",
   "execution_count": 5,
   "id": "5b4153a7",
   "metadata": {},
   "outputs": [
    {
     "name": "stdout",
     "output_type": "stream",
     "text": [
      "<class 'pandas.core.frame.DataFrame'>\n",
      "RangeIndex: 48842 entries, 0 to 48841\n",
      "Data columns (total 7 columns):\n",
      " #   Column          Non-Null Count  Dtype\n",
      "---  ------          --------------  -----\n",
      " 0   age             48842 non-null  int64\n",
      " 1   fnlwgt          48842 non-null  int64\n",
      " 2   education_num   48842 non-null  int64\n",
      " 3   capital_gain    48842 non-null  int64\n",
      " 4   capital_loss    48842 non-null  int64\n",
      " 5   hours_per_week  48842 non-null  int64\n",
      " 6   income_level    48842 non-null  int64\n",
      "dtypes: int64(7)\n",
      "memory usage: 2.6 MB\n"
     ]
    }
   ],
   "source": [
    "data.info()"
   ]
  },
  {
   "cell_type": "code",
   "execution_count": 6,
   "id": "b3a39aa0",
   "metadata": {},
   "outputs": [
    {
     "data": {
      "text/html": [
       "<div>\n",
       "<style scoped>\n",
       "    .dataframe tbody tr th:only-of-type {\n",
       "        vertical-align: middle;\n",
       "    }\n",
       "\n",
       "    .dataframe tbody tr th {\n",
       "        vertical-align: top;\n",
       "    }\n",
       "\n",
       "    .dataframe thead th {\n",
       "        text-align: right;\n",
       "    }\n",
       "</style>\n",
       "<table border=\"1\" class=\"dataframe\">\n",
       "  <thead>\n",
       "    <tr style=\"text-align: right;\">\n",
       "      <th></th>\n",
       "      <th>age</th>\n",
       "      <th>fnlwgt</th>\n",
       "      <th>education_num</th>\n",
       "      <th>capital_gain</th>\n",
       "      <th>capital_loss</th>\n",
       "      <th>hours_per_week</th>\n",
       "      <th>income_level</th>\n",
       "    </tr>\n",
       "  </thead>\n",
       "  <tbody>\n",
       "    <tr>\n",
       "      <th>count</th>\n",
       "      <td>48842.000000</td>\n",
       "      <td>4.884200e+04</td>\n",
       "      <td>48842.000000</td>\n",
       "      <td>48842.000000</td>\n",
       "      <td>48842.000000</td>\n",
       "      <td>48842.000000</td>\n",
       "      <td>48842.000000</td>\n",
       "    </tr>\n",
       "    <tr>\n",
       "      <th>mean</th>\n",
       "      <td>38.643585</td>\n",
       "      <td>1.896641e+05</td>\n",
       "      <td>10.078089</td>\n",
       "      <td>1079.067626</td>\n",
       "      <td>87.502314</td>\n",
       "      <td>40.422382</td>\n",
       "      <td>0.239282</td>\n",
       "    </tr>\n",
       "    <tr>\n",
       "      <th>std</th>\n",
       "      <td>13.710510</td>\n",
       "      <td>1.056040e+05</td>\n",
       "      <td>2.570973</td>\n",
       "      <td>7452.019058</td>\n",
       "      <td>403.004552</td>\n",
       "      <td>12.391444</td>\n",
       "      <td>0.426649</td>\n",
       "    </tr>\n",
       "    <tr>\n",
       "      <th>min</th>\n",
       "      <td>17.000000</td>\n",
       "      <td>1.228500e+04</td>\n",
       "      <td>1.000000</td>\n",
       "      <td>0.000000</td>\n",
       "      <td>0.000000</td>\n",
       "      <td>1.000000</td>\n",
       "      <td>0.000000</td>\n",
       "    </tr>\n",
       "    <tr>\n",
       "      <th>25%</th>\n",
       "      <td>28.000000</td>\n",
       "      <td>1.175505e+05</td>\n",
       "      <td>9.000000</td>\n",
       "      <td>0.000000</td>\n",
       "      <td>0.000000</td>\n",
       "      <td>40.000000</td>\n",
       "      <td>0.000000</td>\n",
       "    </tr>\n",
       "    <tr>\n",
       "      <th>50%</th>\n",
       "      <td>37.000000</td>\n",
       "      <td>1.781445e+05</td>\n",
       "      <td>10.000000</td>\n",
       "      <td>0.000000</td>\n",
       "      <td>0.000000</td>\n",
       "      <td>40.000000</td>\n",
       "      <td>0.000000</td>\n",
       "    </tr>\n",
       "    <tr>\n",
       "      <th>75%</th>\n",
       "      <td>48.000000</td>\n",
       "      <td>2.376420e+05</td>\n",
       "      <td>12.000000</td>\n",
       "      <td>0.000000</td>\n",
       "      <td>0.000000</td>\n",
       "      <td>45.000000</td>\n",
       "      <td>0.000000</td>\n",
       "    </tr>\n",
       "    <tr>\n",
       "      <th>max</th>\n",
       "      <td>90.000000</td>\n",
       "      <td>1.490400e+06</td>\n",
       "      <td>16.000000</td>\n",
       "      <td>99999.000000</td>\n",
       "      <td>4356.000000</td>\n",
       "      <td>99.000000</td>\n",
       "      <td>1.000000</td>\n",
       "    </tr>\n",
       "  </tbody>\n",
       "</table>\n",
       "</div>"
      ],
      "text/plain": [
       "                age        fnlwgt  education_num  capital_gain  capital_loss  \\\n",
       "count  48842.000000  4.884200e+04   48842.000000  48842.000000  48842.000000   \n",
       "mean      38.643585  1.896641e+05      10.078089   1079.067626     87.502314   \n",
       "std       13.710510  1.056040e+05       2.570973   7452.019058    403.004552   \n",
       "min       17.000000  1.228500e+04       1.000000      0.000000      0.000000   \n",
       "25%       28.000000  1.175505e+05       9.000000      0.000000      0.000000   \n",
       "50%       37.000000  1.781445e+05      10.000000      0.000000      0.000000   \n",
       "75%       48.000000  2.376420e+05      12.000000      0.000000      0.000000   \n",
       "max       90.000000  1.490400e+06      16.000000  99999.000000   4356.000000   \n",
       "\n",
       "       hours_per_week  income_level  \n",
       "count    48842.000000  48842.000000  \n",
       "mean        40.422382      0.239282  \n",
       "std         12.391444      0.426649  \n",
       "min          1.000000      0.000000  \n",
       "25%         40.000000      0.000000  \n",
       "50%         40.000000      0.000000  \n",
       "75%         45.000000      0.000000  \n",
       "max         99.000000      1.000000  "
      ]
     },
     "execution_count": 6,
     "metadata": {},
     "output_type": "execute_result"
    }
   ],
   "source": [
    "data.describe()"
   ]
  },
  {
   "cell_type": "code",
   "execution_count": 7,
   "id": "f2df9156",
   "metadata": {},
   "outputs": [
    {
     "data": {
      "text/html": [
       "<div>\n",
       "<style scoped>\n",
       "    .dataframe tbody tr th:only-of-type {\n",
       "        vertical-align: middle;\n",
       "    }\n",
       "\n",
       "    .dataframe tbody tr th {\n",
       "        vertical-align: top;\n",
       "    }\n",
       "\n",
       "    .dataframe thead th {\n",
       "        text-align: right;\n",
       "    }\n",
       "</style>\n",
       "<table border=\"1\" class=\"dataframe\">\n",
       "  <thead>\n",
       "    <tr style=\"text-align: right;\">\n",
       "      <th></th>\n",
       "      <th>age</th>\n",
       "      <th>fnlwgt</th>\n",
       "      <th>education_num</th>\n",
       "      <th>capital_gain</th>\n",
       "      <th>capital_loss</th>\n",
       "      <th>hours_per_week</th>\n",
       "      <th>income_level</th>\n",
       "    </tr>\n",
       "  </thead>\n",
       "  <tbody>\n",
       "    <tr>\n",
       "      <th>age</th>\n",
       "      <td>1.000000</td>\n",
       "      <td>-0.076628</td>\n",
       "      <td>0.030940</td>\n",
       "      <td>0.077229</td>\n",
       "      <td>0.056944</td>\n",
       "      <td>0.071558</td>\n",
       "      <td>0.230369</td>\n",
       "    </tr>\n",
       "    <tr>\n",
       "      <th>fnlwgt</th>\n",
       "      <td>-0.076628</td>\n",
       "      <td>1.000000</td>\n",
       "      <td>-0.038761</td>\n",
       "      <td>-0.003706</td>\n",
       "      <td>-0.004366</td>\n",
       "      <td>-0.013519</td>\n",
       "      <td>-0.006339</td>\n",
       "    </tr>\n",
       "    <tr>\n",
       "      <th>education_num</th>\n",
       "      <td>0.030940</td>\n",
       "      <td>-0.038761</td>\n",
       "      <td>1.000000</td>\n",
       "      <td>0.125146</td>\n",
       "      <td>0.080972</td>\n",
       "      <td>0.143689</td>\n",
       "      <td>0.332613</td>\n",
       "    </tr>\n",
       "    <tr>\n",
       "      <th>capital_gain</th>\n",
       "      <td>0.077229</td>\n",
       "      <td>-0.003706</td>\n",
       "      <td>0.125146</td>\n",
       "      <td>1.000000</td>\n",
       "      <td>-0.031441</td>\n",
       "      <td>0.082157</td>\n",
       "      <td>0.223013</td>\n",
       "    </tr>\n",
       "    <tr>\n",
       "      <th>capital_loss</th>\n",
       "      <td>0.056944</td>\n",
       "      <td>-0.004366</td>\n",
       "      <td>0.080972</td>\n",
       "      <td>-0.031441</td>\n",
       "      <td>1.000000</td>\n",
       "      <td>0.054467</td>\n",
       "      <td>0.147554</td>\n",
       "    </tr>\n",
       "    <tr>\n",
       "      <th>hours_per_week</th>\n",
       "      <td>0.071558</td>\n",
       "      <td>-0.013519</td>\n",
       "      <td>0.143689</td>\n",
       "      <td>0.082157</td>\n",
       "      <td>0.054467</td>\n",
       "      <td>1.000000</td>\n",
       "      <td>0.227687</td>\n",
       "    </tr>\n",
       "    <tr>\n",
       "      <th>income_level</th>\n",
       "      <td>0.230369</td>\n",
       "      <td>-0.006339</td>\n",
       "      <td>0.332613</td>\n",
       "      <td>0.223013</td>\n",
       "      <td>0.147554</td>\n",
       "      <td>0.227687</td>\n",
       "      <td>1.000000</td>\n",
       "    </tr>\n",
       "  </tbody>\n",
       "</table>\n",
       "</div>"
      ],
      "text/plain": [
       "                     age    fnlwgt  education_num  capital_gain  capital_loss  \\\n",
       "age             1.000000 -0.076628       0.030940      0.077229      0.056944   \n",
       "fnlwgt         -0.076628  1.000000      -0.038761     -0.003706     -0.004366   \n",
       "education_num   0.030940 -0.038761       1.000000      0.125146      0.080972   \n",
       "capital_gain    0.077229 -0.003706       0.125146      1.000000     -0.031441   \n",
       "capital_loss    0.056944 -0.004366       0.080972     -0.031441      1.000000   \n",
       "hours_per_week  0.071558 -0.013519       0.143689      0.082157      0.054467   \n",
       "income_level    0.230369 -0.006339       0.332613      0.223013      0.147554   \n",
       "\n",
       "                hours_per_week  income_level  \n",
       "age                   0.071558      0.230369  \n",
       "fnlwgt               -0.013519     -0.006339  \n",
       "education_num         0.143689      0.332613  \n",
       "capital_gain          0.082157      0.223013  \n",
       "capital_loss          0.054467      0.147554  \n",
       "hours_per_week        1.000000      0.227687  \n",
       "income_level          0.227687      1.000000  "
      ]
     },
     "execution_count": 7,
     "metadata": {},
     "output_type": "execute_result"
    }
   ],
   "source": [
    "data.corr()"
   ]
  },
  {
   "cell_type": "code",
   "execution_count": 8,
   "id": "60b15027",
   "metadata": {},
   "outputs": [],
   "source": [
    "x=data.drop('income_level',axis=1)\n",
    "x=x.drop('education_num',axis=1)\n",
    "y=data['income_level']"
   ]
  },
  {
   "cell_type": "code",
   "execution_count": 9,
   "id": "5392dec5",
   "metadata": {},
   "outputs": [],
   "source": [
    "from sklearn.model_selection import train_test_split\n",
    "X_train,X_test,y_train,y_test=train_test_split(x,y,test_size=0.2)"
   ]
  },
  {
   "cell_type": "code",
   "execution_count": 10,
   "id": "bea44163",
   "metadata": {},
   "outputs": [],
   "source": [
    "from sklearn.linear_model import LogisticRegression\n",
    "Model_Logistic = LogisticRegression()"
   ]
  },
  {
   "cell_type": "markdown",
   "id": "6b14369e",
   "metadata": {},
   "source": [
    "using various classification algorithms "
   ]
  },
  {
   "cell_type": "markdown",
   "id": "fe8c2027",
   "metadata": {},
   "source": [
    "# Ada boost"
   ]
  },
  {
   "cell_type": "code",
   "execution_count": 11,
   "id": "9c21f5ef",
   "metadata": {},
   "outputs": [],
   "source": [
    "from sklearn.ensemble import AdaBoostClassifier\n",
    "from catboost import CatBoostClassifier\n",
    "from xgboost import XGBClassifier"
   ]
  },
  {
   "cell_type": "code",
   "execution_count": 12,
   "id": "01cbac57",
   "metadata": {},
   "outputs": [],
   "source": [
    "AdaModel = AdaBoostClassifier(n_estimators=50,base_estimator=Model_Logistic,learning_rate=1)\n",
    "#n_estimator=no of week learners,learning_rate=deafult weight assigner to these learners\n",
    "model=AdaModel.fit(X_train,y_train)"
   ]
  },
  {
   "cell_type": "code",
   "execution_count": 13,
   "id": "839d9111",
   "metadata": {},
   "outputs": [],
   "source": [
    "ypred=model.predict(X_test)"
   ]
  },
  {
   "cell_type": "code",
   "execution_count": 14,
   "id": "f2260209",
   "metadata": {},
   "outputs": [],
   "source": [
    "from sklearn import metrics"
   ]
  },
  {
   "cell_type": "code",
   "execution_count": 15,
   "id": "43327a92",
   "metadata": {},
   "outputs": [
    {
     "data": {
      "text/plain": [
       "0.7913808987613881"
      ]
     },
     "execution_count": 15,
     "metadata": {},
     "output_type": "execute_result"
    }
   ],
   "source": [
    "metrics.accuracy_score(y_test,ypred)"
   ]
  },
  {
   "cell_type": "markdown",
   "id": "4d5b062d",
   "metadata": {},
   "source": [
    "# catboost"
   ]
  },
  {
   "cell_type": "code",
   "execution_count": 16,
   "id": "55d3a6b2",
   "metadata": {},
   "outputs": [
    {
     "name": "stdout",
     "output_type": "stream",
     "text": [
      "Learning rate set to 0.407067\n",
      "0:\tlearn: 0.5425496\ttotal: 150ms\tremaining: 14.8s\n",
      "1:\tlearn: 0.4780765\ttotal: 161ms\tremaining: 7.9s\n",
      "2:\tlearn: 0.4458212\ttotal: 175ms\tremaining: 5.67s\n",
      "3:\tlearn: 0.4253043\ttotal: 184ms\tremaining: 4.42s\n",
      "4:\tlearn: 0.4122543\ttotal: 194ms\tremaining: 3.69s\n",
      "5:\tlearn: 0.4041615\ttotal: 206ms\tremaining: 3.22s\n",
      "6:\tlearn: 0.3993241\ttotal: 214ms\tremaining: 2.85s\n",
      "7:\tlearn: 0.3957375\ttotal: 225ms\tremaining: 2.58s\n",
      "8:\tlearn: 0.3939775\ttotal: 233ms\tremaining: 2.35s\n",
      "9:\tlearn: 0.3922300\ttotal: 242ms\tremaining: 2.18s\n",
      "10:\tlearn: 0.3908166\ttotal: 249ms\tremaining: 2.02s\n",
      "11:\tlearn: 0.3878623\ttotal: 258ms\tremaining: 1.89s\n",
      "12:\tlearn: 0.3872628\ttotal: 265ms\tremaining: 1.77s\n",
      "13:\tlearn: 0.3863941\ttotal: 274ms\tremaining: 1.68s\n",
      "14:\tlearn: 0.3859964\ttotal: 282ms\tremaining: 1.6s\n",
      "15:\tlearn: 0.3848802\ttotal: 291ms\tremaining: 1.52s\n",
      "16:\tlearn: 0.3838538\ttotal: 299ms\tremaining: 1.46s\n",
      "17:\tlearn: 0.3825371\ttotal: 307ms\tremaining: 1.4s\n",
      "18:\tlearn: 0.3819499\ttotal: 315ms\tremaining: 1.34s\n",
      "19:\tlearn: 0.3812315\ttotal: 324ms\tremaining: 1.29s\n",
      "20:\tlearn: 0.3802927\ttotal: 333ms\tremaining: 1.25s\n",
      "21:\tlearn: 0.3797764\ttotal: 341ms\tremaining: 1.21s\n",
      "22:\tlearn: 0.3796992\ttotal: 351ms\tremaining: 1.18s\n",
      "23:\tlearn: 0.3794532\ttotal: 360ms\tremaining: 1.14s\n",
      "24:\tlearn: 0.3792414\ttotal: 369ms\tremaining: 1.11s\n",
      "25:\tlearn: 0.3790483\ttotal: 377ms\tremaining: 1.07s\n",
      "26:\tlearn: 0.3785074\ttotal: 386ms\tremaining: 1.04s\n",
      "27:\tlearn: 0.3782790\ttotal: 394ms\tremaining: 1.01s\n",
      "28:\tlearn: 0.3781018\ttotal: 403ms\tremaining: 987ms\n",
      "29:\tlearn: 0.3771784\ttotal: 411ms\tremaining: 958ms\n",
      "30:\tlearn: 0.3769284\ttotal: 418ms\tremaining: 931ms\n",
      "31:\tlearn: 0.3768377\ttotal: 426ms\tremaining: 904ms\n",
      "32:\tlearn: 0.3748854\ttotal: 435ms\tremaining: 883ms\n",
      "33:\tlearn: 0.3740084\ttotal: 444ms\tremaining: 862ms\n",
      "34:\tlearn: 0.3733924\ttotal: 452ms\tremaining: 839ms\n",
      "35:\tlearn: 0.3722481\ttotal: 460ms\tremaining: 817ms\n",
      "36:\tlearn: 0.3720818\ttotal: 467ms\tremaining: 795ms\n",
      "37:\tlearn: 0.3714987\ttotal: 475ms\tremaining: 775ms\n",
      "38:\tlearn: 0.3711580\ttotal: 483ms\tremaining: 755ms\n",
      "39:\tlearn: 0.3709872\ttotal: 490ms\tremaining: 735ms\n",
      "40:\tlearn: 0.3708148\ttotal: 498ms\tremaining: 717ms\n",
      "41:\tlearn: 0.3706639\ttotal: 506ms\tremaining: 698ms\n",
      "42:\tlearn: 0.3705993\ttotal: 513ms\tremaining: 681ms\n",
      "43:\tlearn: 0.3702774\ttotal: 521ms\tremaining: 663ms\n",
      "44:\tlearn: 0.3700314\ttotal: 529ms\tremaining: 647ms\n",
      "45:\tlearn: 0.3699183\ttotal: 537ms\tremaining: 630ms\n",
      "46:\tlearn: 0.3695824\ttotal: 545ms\tremaining: 614ms\n",
      "47:\tlearn: 0.3690109\ttotal: 552ms\tremaining: 598ms\n",
      "48:\tlearn: 0.3686913\ttotal: 560ms\tremaining: 583ms\n",
      "49:\tlearn: 0.3680790\ttotal: 567ms\tremaining: 567ms\n",
      "50:\tlearn: 0.3677032\ttotal: 575ms\tremaining: 553ms\n",
      "51:\tlearn: 0.3671430\ttotal: 583ms\tremaining: 538ms\n",
      "52:\tlearn: 0.3670629\ttotal: 590ms\tremaining: 523ms\n",
      "53:\tlearn: 0.3667999\ttotal: 597ms\tremaining: 509ms\n",
      "54:\tlearn: 0.3664808\ttotal: 606ms\tremaining: 496ms\n",
      "55:\tlearn: 0.3662640\ttotal: 614ms\tremaining: 482ms\n",
      "56:\tlearn: 0.3661037\ttotal: 622ms\tremaining: 469ms\n",
      "57:\tlearn: 0.3658706\ttotal: 629ms\tremaining: 456ms\n",
      "58:\tlearn: 0.3658433\ttotal: 636ms\tremaining: 442ms\n",
      "59:\tlearn: 0.3656669\ttotal: 644ms\tremaining: 429ms\n",
      "60:\tlearn: 0.3655874\ttotal: 651ms\tremaining: 416ms\n",
      "61:\tlearn: 0.3654141\ttotal: 659ms\tremaining: 404ms\n",
      "62:\tlearn: 0.3652483\ttotal: 667ms\tremaining: 392ms\n",
      "63:\tlearn: 0.3652261\ttotal: 674ms\tremaining: 379ms\n",
      "64:\tlearn: 0.3651537\ttotal: 682ms\tremaining: 367ms\n",
      "65:\tlearn: 0.3651127\ttotal: 689ms\tremaining: 355ms\n",
      "66:\tlearn: 0.3649913\ttotal: 697ms\tremaining: 343ms\n",
      "67:\tlearn: 0.3647702\ttotal: 705ms\tremaining: 332ms\n",
      "68:\tlearn: 0.3646799\ttotal: 713ms\tremaining: 320ms\n",
      "69:\tlearn: 0.3644630\ttotal: 721ms\tremaining: 309ms\n",
      "70:\tlearn: 0.3641303\ttotal: 729ms\tremaining: 298ms\n",
      "71:\tlearn: 0.3639929\ttotal: 736ms\tremaining: 286ms\n",
      "72:\tlearn: 0.3638581\ttotal: 744ms\tremaining: 275ms\n",
      "73:\tlearn: 0.3637625\ttotal: 751ms\tremaining: 264ms\n",
      "74:\tlearn: 0.3635791\ttotal: 759ms\tremaining: 253ms\n",
      "75:\tlearn: 0.3634515\ttotal: 766ms\tremaining: 242ms\n",
      "76:\tlearn: 0.3632419\ttotal: 774ms\tremaining: 231ms\n",
      "77:\tlearn: 0.3628802\ttotal: 782ms\tremaining: 221ms\n",
      "78:\tlearn: 0.3626913\ttotal: 790ms\tremaining: 210ms\n",
      "79:\tlearn: 0.3624819\ttotal: 798ms\tremaining: 200ms\n",
      "80:\tlearn: 0.3622059\ttotal: 806ms\tremaining: 189ms\n",
      "81:\tlearn: 0.3621542\ttotal: 814ms\tremaining: 179ms\n",
      "82:\tlearn: 0.3620737\ttotal: 821ms\tremaining: 168ms\n",
      "83:\tlearn: 0.3620113\ttotal: 829ms\tremaining: 158ms\n",
      "84:\tlearn: 0.3617533\ttotal: 837ms\tremaining: 148ms\n",
      "85:\tlearn: 0.3615497\ttotal: 845ms\tremaining: 137ms\n",
      "86:\tlearn: 0.3613784\ttotal: 852ms\tremaining: 127ms\n",
      "87:\tlearn: 0.3611081\ttotal: 860ms\tremaining: 117ms\n",
      "88:\tlearn: 0.3609906\ttotal: 868ms\tremaining: 107ms\n",
      "89:\tlearn: 0.3609204\ttotal: 876ms\tremaining: 97.3ms\n",
      "90:\tlearn: 0.3609111\ttotal: 883ms\tremaining: 87.4ms\n",
      "91:\tlearn: 0.3607515\ttotal: 891ms\tremaining: 77.4ms\n",
      "92:\tlearn: 0.3607231\ttotal: 899ms\tremaining: 67.7ms\n",
      "93:\tlearn: 0.3605989\ttotal: 906ms\tremaining: 57.8ms\n",
      "94:\tlearn: 0.3605711\ttotal: 914ms\tremaining: 48.1ms\n",
      "95:\tlearn: 0.3604799\ttotal: 921ms\tremaining: 38.4ms\n",
      "96:\tlearn: 0.3603875\ttotal: 929ms\tremaining: 28.7ms\n",
      "97:\tlearn: 0.3600548\ttotal: 938ms\tremaining: 19.1ms\n",
      "98:\tlearn: 0.3598048\ttotal: 946ms\tremaining: 9.55ms\n",
      "99:\tlearn: 0.3597180\ttotal: 953ms\tremaining: 0us\n"
     ]
    },
    {
     "data": {
      "text/plain": [
       "<catboost.core.CatBoostClassifier at 0x1e9c3178580>"
      ]
     },
     "execution_count": 16,
     "metadata": {},
     "output_type": "execute_result"
    }
   ],
   "source": [
    "modelcb=CatBoostClassifier(n_estimators=100)\n",
    "modelcb.fit(X_train,y_train)"
   ]
  },
  {
   "cell_type": "code",
   "execution_count": 17,
   "id": "67c6435f",
   "metadata": {},
   "outputs": [],
   "source": [
    "ypredcb=modelcb.predict(X_test)"
   ]
  },
  {
   "cell_type": "code",
   "execution_count": 18,
   "id": "249e28bf",
   "metadata": {},
   "outputs": [
    {
     "data": {
      "text/plain": [
       "0.8247517657897431"
      ]
     },
     "execution_count": 18,
     "metadata": {},
     "output_type": "execute_result"
    }
   ],
   "source": [
    "metrics.accuracy_score(ypredcb,y_test)"
   ]
  },
  {
   "cell_type": "markdown",
   "id": "51f727f7",
   "metadata": {},
   "source": [
    "# XG boosting\n"
   ]
  },
  {
   "cell_type": "code",
   "execution_count": 19,
   "id": "8eaff12a",
   "metadata": {},
   "outputs": [
    {
     "data": {
      "text/plain": [
       "XGBClassifier(base_score=0.5, booster='gbtree', callbacks=None,\n",
       "              colsample_bylevel=1, colsample_bynode=1, colsample_bytree=1,\n",
       "              early_stopping_rounds=None, enable_categorical=False,\n",
       "              eval_metric=None, gamma=0, gpu_id=-1, grow_policy='depthwise',\n",
       "              importance_type=None, interaction_constraints='',\n",
       "              learning_rate=0.300000012, max_bin=256, max_cat_to_onehot=4,\n",
       "              max_delta_step=0, max_depth=6, max_leaves=0, min_child_weight=1,\n",
       "              missing=nan, monotone_constraints='()', n_estimators=100,\n",
       "              n_jobs=0, num_parallel_tree=1, predictor='auto', random_state=0,\n",
       "              reg_alpha=0, reg_lambda=1, ...)"
      ]
     },
     "execution_count": 19,
     "metadata": {},
     "output_type": "execute_result"
    }
   ],
   "source": [
    "modelxg = XGBClassifier()\n",
    "modelxg.fit(X_train.values,y_train)"
   ]
  },
  {
   "cell_type": "code",
   "execution_count": 20,
   "id": "0619829d",
   "metadata": {},
   "outputs": [],
   "source": [
    "from sklearn.preprocessing import LabelEncoder\n",
    "le = LabelEncoder()\n",
    "y_train = le.fit_transform(y_train)"
   ]
  },
  {
   "cell_type": "code",
   "execution_count": 21,
   "id": "ce428036",
   "metadata": {},
   "outputs": [],
   "source": [
    "ypredxg=modelxg.predict(X_test)"
   ]
  },
  {
   "cell_type": "code",
   "execution_count": 22,
   "id": "ed3e411f",
   "metadata": {},
   "outputs": [
    {
     "data": {
      "text/plain": [
       "0.8239328488074521"
      ]
     },
     "execution_count": 22,
     "metadata": {},
     "output_type": "execute_result"
    }
   ],
   "source": [
    "metrics.accuracy_score(ypredxg,y_test)"
   ]
  },
  {
   "cell_type": "markdown",
   "id": "91850f05",
   "metadata": {},
   "source": [
    "#Random forest"
   ]
  },
  {
   "cell_type": "code",
   "execution_count": 23,
   "id": "f08afaaa",
   "metadata": {},
   "outputs": [
    {
     "data": {
      "text/plain": [
       "RandomForestClassifier()"
      ]
     },
     "execution_count": 23,
     "metadata": {},
     "output_type": "execute_result"
    }
   ],
   "source": [
    "from sklearn.ensemble import RandomForestClassifier\n",
    "modelrfc=RandomForestClassifier()\n",
    "modelrfc.fit(X_train,y_train)"
   ]
  },
  {
   "cell_type": "code",
   "execution_count": 24,
   "id": "26aee644",
   "metadata": {},
   "outputs": [],
   "source": [
    "ypredrfc=modelrfc.predict(X_test)"
   ]
  },
  {
   "cell_type": "code",
   "execution_count": 25,
   "id": "1e1f65cb",
   "metadata": {},
   "outputs": [
    {
     "data": {
      "text/plain": [
       "0.7720339850547651"
      ]
     },
     "execution_count": 25,
     "metadata": {},
     "output_type": "execute_result"
    }
   ],
   "source": [
    "metrics.accuracy_score(ypredrfc,y_test)"
   ]
  },
  {
   "cell_type": "markdown",
   "id": "ac7f2fcf",
   "metadata": {},
   "source": [
    "Cat boost performs the best"
   ]
  },
  {
   "cell_type": "code",
   "execution_count": 26,
   "id": "f0dd663e",
   "metadata": {},
   "outputs": [],
   "source": [
    "import pickle\n",
    "pickle.dump(modelcb,open('model1.pkl','wb'))"
   ]
  },
  {
   "cell_type": "code",
   "execution_count": 27,
   "id": "81a3c3ca",
   "metadata": {},
   "outputs": [],
   "source": [
    "model1 = pickle.load(open('model1.pkl','rb'))"
   ]
  },
  {
   "cell_type": "code",
   "execution_count": null,
   "id": "f24c0e0c",
   "metadata": {},
   "outputs": [],
   "source": []
  }
 ],
 "metadata": {
  "kernelspec": {
   "display_name": "Python 3.9.7 ('base')",
   "language": "python",
   "name": "python3"
  },
  "language_info": {
   "codemirror_mode": {
    "name": "ipython",
    "version": 3
   },
   "file_extension": ".py",
   "mimetype": "text/x-python",
   "name": "python",
   "nbconvert_exporter": "python",
   "pygments_lexer": "ipython3",
   "version": "3.9.7"
  },
  "vscode": {
   "interpreter": {
    "hash": "0ac7ee38b651cd756b663ccb6545cb22d8e74deaa3e1a6fbf8dd6029ac7e6bc3"
   }
  }
 },
 "nbformat": 4,
 "nbformat_minor": 5
}
